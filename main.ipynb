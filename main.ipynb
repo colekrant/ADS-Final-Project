{
 "cells": [
  {
   "cell_type": "markdown",
   "metadata": {},
   "source": [
    "## $\\color{SkyBlue}{\\text{NBA Championship Analysis}}$\n",
    "#### $\\color{SkyBlue}{\\text{Advanced Data Science Final Project : Roman Lynch and Cole Krant}}$\n"
   ]
  },
  {
   "cell_type": "markdown",
   "metadata": {},
   "source": [
    "<br>\n",
    "<br>"
   ]
  },
  {
   "cell_type": "markdown",
   "metadata": {},
   "source": [
    "# Plan of Attack\n",
    "\n",
    "### Hypothesis #1: \n",
    "Teams with taller and heavier players perform better in the overall championship ranking.\n",
    "- Dataset: all_seasons\n",
    "\n",
    "### Hypothesis #2:\n",
    "\n",
    "Teams in warmer cities, perform better in the overall championship ranking.\n",
    "\n",
    "For this, we will use the city_temperature.csv we referenced in the proposal.\n"
   ]
  },
  {
   "cell_type": "markdown",
   "metadata": {},
   "source": [
    "<br>\n",
    "<br>"
   ]
  },
  {
   "cell_type": "markdown",
   "metadata": {},
   "source": [
    "### $\\color{SkyBlue}{\\text{Libraries}}$"
   ]
  },
  {
   "cell_type": "code",
   "execution_count": 3,
   "metadata": {},
   "outputs": [],
   "source": [
    "import numpy as np\n",
    "import pandas as pd"
   ]
  },
  {
   "cell_type": "markdown",
   "metadata": {},
   "source": [
    "### $\\color{SkyBlue}{\\text{Import Dataframes}}$"
   ]
  },
  {
   "cell_type": "code",
   "execution_count": 56,
   "metadata": {},
   "outputs": [
    {
     "name": "stderr",
     "output_type": "stream",
     "text": [
      "C:\\Users\\ColeK\\AppData\\Local\\Temp\\ipykernel_6240\\3451929199.py:46: DtypeWarning: Columns (2) have mixed types. Specify dtype option on import or set low_memory=False.\n",
      "  df_cityTemp = pd.read_csv(\"data/city_temperature.csv\")\n",
      "C:\\Users\\ColeK\\AppData\\Local\\Temp\\ipykernel_6240\\3451929199.py:58: DtypeWarning: Columns (11) have mixed types. Specify dtype option on import or set low_memory=False.\n",
      "  df_wagesPopulation = pd.read_csv(\"data/wages_population.csv\")\n"
     ]
    },
    {
     "data": {
      "text/html": [
       "<div>\n",
       "<style scoped>\n",
       "    .dataframe tbody tr th:only-of-type {\n",
       "        vertical-align: middle;\n",
       "    }\n",
       "\n",
       "    .dataframe tbody tr th {\n",
       "        vertical-align: top;\n",
       "    }\n",
       "\n",
       "    .dataframe thead th {\n",
       "        text-align: right;\n",
       "    }\n",
       "</style>\n",
       "<table border=\"1\" class=\"dataframe\">\n",
       "  <thead>\n",
       "    <tr style=\"text-align: right;\">\n",
       "      <th></th>\n",
       "      <th>Team</th>\n",
       "      <th>Rank</th>\n",
       "      <th>Year</th>\n",
       "      <th>Converence</th>\n",
       "    </tr>\n",
       "  </thead>\n",
       "  <tbody>\n",
       "    <tr>\n",
       "      <th>0</th>\n",
       "      <td>Denver Nuggets*</td>\n",
       "      <td>1</td>\n",
       "      <td>2023</td>\n",
       "      <td>West</td>\n",
       "    </tr>\n",
       "    <tr>\n",
       "      <th>1</th>\n",
       "      <td>Memphis Grizzlies*</td>\n",
       "      <td>2</td>\n",
       "      <td>2023</td>\n",
       "      <td>West</td>\n",
       "    </tr>\n",
       "    <tr>\n",
       "      <th>2</th>\n",
       "      <td>Sacramento Kings*</td>\n",
       "      <td>3</td>\n",
       "      <td>2023</td>\n",
       "      <td>West</td>\n",
       "    </tr>\n",
       "    <tr>\n",
       "      <th>3</th>\n",
       "      <td>Phoenix Suns*</td>\n",
       "      <td>4</td>\n",
       "      <td>2023</td>\n",
       "      <td>West</td>\n",
       "    </tr>\n",
       "    <tr>\n",
       "      <th>4</th>\n",
       "      <td>Golden State Warriors*</td>\n",
       "      <td>5</td>\n",
       "      <td>2023</td>\n",
       "      <td>West</td>\n",
       "    </tr>\n",
       "  </tbody>\n",
       "</table>\n",
       "</div>"
      ],
      "text/plain": [
       "                     Team  Rank  Year Converence\n",
       "0         Denver Nuggets*     1  2023       West\n",
       "1      Memphis Grizzlies*     2  2023       West\n",
       "2       Sacramento Kings*     3  2023       West\n",
       "3           Phoenix Suns*     4  2023       West\n",
       "4  Golden State Warriors*     5  2023       West"
      ]
     },
     "execution_count": 56,
     "metadata": {},
     "output_type": "execute_result"
    }
   ],
   "source": [
    "## Statistics for each team, by season\n",
    "### Basic Info\n",
    "#   id\n",
    "#   player name\n",
    "#   team abbreviation\n",
    "#   age\n",
    "#   player height\n",
    "#   player weight\n",
    "df_seasons = pd.read_csv(\"data/all_seasons.csv\")\n",
    "df_seasons = df_seasons[[\"id\", \"player_name\", \"team_abbreviation\", \"age\", \"player_height\", \"player_weight\"]]\n",
    "# df_seasons.head()\n",
    "# print(df_seasons.shape)\n",
    "\n",
    "## Team Statistics\n",
    "### Basic Info\n",
    "#   full name\n",
    "#   abbreviation (id)\n",
    "#   city\n",
    "#   state\n",
    "#   year founded\n",
    "df_team = pd.read_csv(\"data/team.csv\")\n",
    "df_team = df_team[[\"full_name\", \"abbreviation\", \"city\", \"state\", \"year_founded\"]]\n",
    "# df_team.head()\n",
    "# print(df_team.shape)\n",
    "\n",
    "## Team Details\n",
    "#   abbreviation\n",
    "#   city\n",
    "#   arena capacity\n",
    "#   arena\n",
    "df_teamDetails = pd.read_csv(\"data/team_details.csv\")\n",
    "df_teamDetails = df_teamDetails[[\"abbreviation\", \"city\", \"arenacapacity\", \"arena\"]]\n",
    "# df_teamDetails.head()\n",
    "# print(df_teamDetails.shape)\n",
    "\n",
    "## NOTE: when cleaning the data, the df_team and df_teamDetails don't have the same number of rows (teams)\n",
    "##   need to figure that out\n",
    "\n",
    "\n",
    "## City Temperature\n",
    "#   country\n",
    "#   state\n",
    "#   city\n",
    "#   year\n",
    "#   AvgTemperature\n",
    "df_cityTemp = pd.read_csv(\"data/city_temperature.csv\")\n",
    "df_cityTemp = df_cityTemp[df_cityTemp[\"Region\"] == \"North America\"]\n",
    "df_cityTemp = df_cityTemp[[\"Country\", \"State\", \"City\", \"Year\", \"AvgTemperature\"]]\n",
    "df_cityTemp.head()\n",
    "\n",
    "\n",
    "## Wages and Population\n",
    "#   city\n",
    "#   state\n",
    "#   country\n",
    "#   estimatedpopulation\n",
    "#   totalwages\n",
    "df_wagesPopulation = pd.read_csv(\"data/wages_population.csv\")\n",
    "df_wagesPopulation = df_wagesPopulation[[\"City\", \"State\", \"Country\", \"EstimatedPopulation\", \"TotalWages\"]]\n",
    "df_wagesPopulation.dropna(inplace=True)\n",
    "# df_wagesPopulation.head()\n",
    "# print(df_wagesPopulation.shape)\n",
    "\n",
    "\n",
    "## Rankings\n",
    "df_rankings = pd.read_csv(\"data/rankings.csv\")\n",
    "df_rankings.head()"
   ]
  }
 ],
 "metadata": {
  "kernelspec": {
   "display_name": "Python 3",
   "language": "python",
   "name": "python3"
  },
  "language_info": {
   "codemirror_mode": {
    "name": "ipython",
    "version": 3
   },
   "file_extension": ".py",
   "mimetype": "text/x-python",
   "name": "python",
   "nbconvert_exporter": "python",
   "pygments_lexer": "ipython3",
   "version": "3.10.7"
  }
 },
 "nbformat": 4,
 "nbformat_minor": 2
}
