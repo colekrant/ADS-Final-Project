{
 "cells": [
  {
   "cell_type": "markdown",
   "metadata": {},
   "source": [
    "## $\\color{SkyBlue}{\\text{NBA Championship Analysis}}$\n",
    "#### $\\color{SkyBlue}{\\text{Advanced Data Science Final Project : Roman Lynch and Cole Krant}}$\n"
   ]
  },
  {
   "cell_type": "markdown",
   "metadata": {},
   "source": [
    "<br>\n",
    "<br>"
   ]
  },
  {
   "cell_type": "markdown",
   "metadata": {},
   "source": [
    "# Plan of Attack\n",
    "\n",
    "### Hypothesis #1: \n",
    "Teams with taller and heavier players perform better in the overall championship ranking.\n",
    "\n",
    "### Hypothesis #2:\n",
    "\n",
    "Teams in warmer cities, perform better in the overall championship ranking.\n",
    "\n",
    "### Hypothesis #3:\n",
    "\n",
    "Teams that preside in a cities that are more populous have a higher final ranking. \n"
   ]
  },
  {
   "cell_type": "markdown",
   "metadata": {},
   "source": [
    "<br>\n",
    "<br>"
   ]
  }
 ],
 "metadata": {
  "kernelspec": {
   "display_name": "Python 3",
   "language": "python",
   "name": "python3"
  },
  "language_info": {
   "codemirror_mode": {
    "name": "ipython",
    "version": 3
   },
   "file_extension": ".py",
   "mimetype": "text/x-python",
   "name": "python",
   "nbconvert_exporter": "python",
   "pygments_lexer": "ipython3",
   "version": "3.10.7"
  }
 },
 "nbformat": 4,
 "nbformat_minor": 2
}
