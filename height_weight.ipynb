{
 "cells": [
  {
   "cell_type": "markdown",
   "metadata": {},
   "source": [
    "## $\\color{SkyBlue}{\\text{Hypothesis 1}}$\n",
    "#### $\\color{SkyBlue}{\\text{Cole Krant}}$\n",
    "\n",
    "### Description\n",
    "\n",
    "To what extend to a players height and weight contribute to the teams overall performance?"
   ]
  },
  {
   "cell_type": "markdown",
   "metadata": {},
   "source": [
    "<br>\n",
    "<br>"
   ]
  },
  {
   "cell_type": "markdown",
   "metadata": {},
   "source": [
    "$\\rule{27cm}{0.4pt}$ \n",
    "### Import Libraries"
   ]
  },
  {
   "cell_type": "code",
   "execution_count": 2,
   "metadata": {},
   "outputs": [],
   "source": [
    "import numpy as np\n",
    "import pandas as pd"
   ]
  },
  {
   "cell_type": "markdown",
   "metadata": {},
   "source": [
    "$\\rule{27cm}{0.4pt}$\n",
    "### K-Means Algorithm"
   ]
  },
  {
   "cell_type": "code",
   "execution_count": 4,
   "metadata": {},
   "outputs": [],
   "source": [
    "#--------------------------------------------------------------------------------#\n",
    "def dist(x1, x2):\n",
    "    return np.sqrt(np.sum(x1-x2)**2)\n",
    "#--------------------------------------------------------------------------------#"
   ]
  },
  {
   "cell_type": "code",
   "execution_count": 5,
   "metadata": {},
   "outputs": [],
   "source": [
    "#--------------------------------------------------------------------------------#\n",
    "def kMeans(df, k=4, tol=0.05): \n",
    "    \"\"\"\n",
    "    Usage: input \n",
    "        df=data frame, \n",
    "        k=# of clusters\n",
    "        tol=tolerance for L_2 convergance check on centroids\n",
    "    \"\"\"    \n",
    "    #---------------------------------------#\n",
    "    #-- Initialize --#\n",
    "    clusters = np.zeros(len(df))\n",
    "    centroids = df.sample(k).values\n",
    "    mean_error = np.inf\n",
    "    converged = False\n",
    "    \n",
    "    num_iterations = 0\n",
    "    \n",
    "    #---------------------------------------#\n",
    "    #-- LOOP UNTIL CONVERGENCE --#\n",
    "    while not(converged):\n",
    "        \n",
    "        #-- Cluster Assignment --#\n",
    "        for index, data in enumerate(df.values):\n",
    "            distances = [dist(data, centroid) for centroid in centroids]\n",
    "            clusters[index] = np.argmin(distances)\n",
    "        \n",
    "        #-- Update Centroids --#\n",
    "        updated_centroids = np.empty((k, df.shape[1]))\n",
    "        for index in range(k):\n",
    "            clust_data = df[clusters == index]\n",
    "            centroid = clust_data.mean(axis=0)\n",
    "            updated_centroids[index, :] = centroid\n",
    "            \n",
    "        #-- Calculate Meanerror --#\n",
    "        errors = []\n",
    "        for data, cluster in zip(df.values, clusters):\n",
    "            centroid = updated_centroids[int(cluster)]\n",
    "            errors.append(dist(data, centroid)**2)\n",
    "        \n",
    "        error_arr = np.array(errors)\n",
    "        \n",
    "        #-- Calculate Reconstruction Error --#\n",
    "        rec_err = np.sum(error_arr)/len(df)\n",
    "        \n",
    "        #-- Check for Convergence --#\n",
    "        if (abs(rec_err - mean_error) < tol):\n",
    "            converged = True\n",
    "#             print('Converged at iteration {} with a change of {}'.format(num_iterations, abs(rec_err - mean_error)))\n",
    "        \n",
    "        # Update Values\n",
    "        centroids = updated_centroids\n",
    "        mean_error = rec_err\n",
    "        num_iterations = num_iterations + 1\n",
    "        \n",
    "    #---------------------------------------#\n",
    "    return centroids, clusters, mean_error\n",
    "#--------------------------------------------------------------------------------#"
   ]
  },
  {
   "cell_type": "markdown",
   "metadata": {},
   "source": [
    "$\\rule{27cm}{0.4pt}$ \n",
    "### Dataframe Composition"
   ]
  },
  {
   "cell_type": "code",
   "execution_count": 3,
   "metadata": {},
   "outputs": [
    {
     "data": {
      "text/html": [
       "<div>\n",
       "<style scoped>\n",
       "    .dataframe tbody tr th:only-of-type {\n",
       "        vertical-align: middle;\n",
       "    }\n",
       "\n",
       "    .dataframe tbody tr th {\n",
       "        vertical-align: top;\n",
       "    }\n",
       "\n",
       "    .dataframe thead th {\n",
       "        text-align: right;\n",
       "    }\n",
       "</style>\n",
       "<table border=\"1\" class=\"dataframe\">\n",
       "  <thead>\n",
       "    <tr style=\"text-align: right;\">\n",
       "      <th></th>\n",
       "      <th>id</th>\n",
       "      <th>player_name</th>\n",
       "      <th>team_abbreviation</th>\n",
       "      <th>age</th>\n",
       "      <th>player_height</th>\n",
       "      <th>player_weight</th>\n",
       "    </tr>\n",
       "  </thead>\n",
       "  <tbody>\n",
       "    <tr>\n",
       "      <th>0</th>\n",
       "      <td>0</td>\n",
       "      <td>Randy Livingston</td>\n",
       "      <td>HOU</td>\n",
       "      <td>22.0</td>\n",
       "      <td>193.04</td>\n",
       "      <td>94.800728</td>\n",
       "    </tr>\n",
       "    <tr>\n",
       "      <th>1</th>\n",
       "      <td>1</td>\n",
       "      <td>Gaylon Nickerson</td>\n",
       "      <td>WAS</td>\n",
       "      <td>28.0</td>\n",
       "      <td>190.50</td>\n",
       "      <td>86.182480</td>\n",
       "    </tr>\n",
       "    <tr>\n",
       "      <th>2</th>\n",
       "      <td>2</td>\n",
       "      <td>George Lynch</td>\n",
       "      <td>VAN</td>\n",
       "      <td>26.0</td>\n",
       "      <td>203.20</td>\n",
       "      <td>103.418976</td>\n",
       "    </tr>\n",
       "    <tr>\n",
       "      <th>3</th>\n",
       "      <td>3</td>\n",
       "      <td>George McCloud</td>\n",
       "      <td>LAL</td>\n",
       "      <td>30.0</td>\n",
       "      <td>203.20</td>\n",
       "      <td>102.058200</td>\n",
       "    </tr>\n",
       "    <tr>\n",
       "      <th>4</th>\n",
       "      <td>4</td>\n",
       "      <td>George Zidek</td>\n",
       "      <td>DEN</td>\n",
       "      <td>23.0</td>\n",
       "      <td>213.36</td>\n",
       "      <td>119.748288</td>\n",
       "    </tr>\n",
       "  </tbody>\n",
       "</table>\n",
       "</div>"
      ],
      "text/plain": [
       "   id       player_name team_abbreviation   age  player_height  player_weight\n",
       "0   0  Randy Livingston               HOU  22.0         193.04      94.800728\n",
       "1   1  Gaylon Nickerson               WAS  28.0         190.50      86.182480\n",
       "2   2      George Lynch               VAN  26.0         203.20     103.418976\n",
       "3   3    George McCloud               LAL  30.0         203.20     102.058200\n",
       "4   4      George Zidek               DEN  23.0         213.36     119.748288"
      ]
     },
     "execution_count": 3,
     "metadata": {},
     "output_type": "execute_result"
    }
   ],
   "source": [
    "#--------------------------------------------------------------------------------#\n",
    "## Statistics for each team, by season\n",
    "### Basic Info\n",
    "#   id\n",
    "#   player name\n",
    "#   team abbreviation\n",
    "#   age\n",
    "#   player height\n",
    "#   player weight\n",
    "df_seasons = pd.read_csv(\"data/all_seasons.csv\")\n",
    "df_seasons = df_seasons[[\"id\", \"player_name\", \"team_abbreviation\", \"age\", \"player_height\", \"player_weight\"]]\n",
    "df_seasons.head()\n",
    "# print(df_seasons.shape)\n",
    "#--------------------------------------------------------------------------------#"
   ]
  },
  {
   "cell_type": "code",
   "execution_count": 16,
   "metadata": {},
   "outputs": [
    {
     "data": {
      "text/html": [
       "<div>\n",
       "<style scoped>\n",
       "    .dataframe tbody tr th:only-of-type {\n",
       "        vertical-align: middle;\n",
       "    }\n",
       "\n",
       "    .dataframe tbody tr th {\n",
       "        vertical-align: top;\n",
       "    }\n",
       "\n",
       "    .dataframe thead th {\n",
       "        text-align: right;\n",
       "    }\n",
       "</style>\n",
       "<table border=\"1\" class=\"dataframe\">\n",
       "  <thead>\n",
       "    <tr style=\"text-align: right;\">\n",
       "      <th></th>\n",
       "      <th>Team</th>\n",
       "      <th>Rank</th>\n",
       "      <th>Year</th>\n",
       "      <th>Converence</th>\n",
       "    </tr>\n",
       "  </thead>\n",
       "  <tbody>\n",
       "    <tr>\n",
       "      <th>0</th>\n",
       "      <td>Denver Nuggets*</td>\n",
       "      <td>1</td>\n",
       "      <td>2023</td>\n",
       "      <td>West</td>\n",
       "    </tr>\n",
       "    <tr>\n",
       "      <th>1</th>\n",
       "      <td>Memphis Grizzlies*</td>\n",
       "      <td>2</td>\n",
       "      <td>2023</td>\n",
       "      <td>West</td>\n",
       "    </tr>\n",
       "    <tr>\n",
       "      <th>2</th>\n",
       "      <td>Sacramento Kings*</td>\n",
       "      <td>3</td>\n",
       "      <td>2023</td>\n",
       "      <td>West</td>\n",
       "    </tr>\n",
       "    <tr>\n",
       "      <th>3</th>\n",
       "      <td>Phoenix Suns*</td>\n",
       "      <td>4</td>\n",
       "      <td>2023</td>\n",
       "      <td>West</td>\n",
       "    </tr>\n",
       "    <tr>\n",
       "      <th>4</th>\n",
       "      <td>Golden State Warriors*</td>\n",
       "      <td>5</td>\n",
       "      <td>2023</td>\n",
       "      <td>West</td>\n",
       "    </tr>\n",
       "  </tbody>\n",
       "</table>\n",
       "</div>"
      ],
      "text/plain": [
       "                     Team  Rank  Year Converence\n",
       "0         Denver Nuggets*     1  2023       West\n",
       "1      Memphis Grizzlies*     2  2023       West\n",
       "2       Sacramento Kings*     3  2023       West\n",
       "3           Phoenix Suns*     4  2023       West\n",
       "4  Golden State Warriors*     5  2023       West"
      ]
     },
     "execution_count": 16,
     "metadata": {},
     "output_type": "execute_result"
    }
   ],
   "source": [
    "#--------------------------------------------------------------------------------#\n",
    "## Team Statistics\n",
    "#   full name\n",
    "#   abbreviation (id)\n",
    "df_team = pd.read_csv(\"data/team.csv\")\n",
    "df_team = df_team[[\"full_name\", \"abbreviation\"]]\n",
    "# df_team.head()\n",
    "\n",
    "## Rankings\n",
    "#   Abbreviation (id)\n",
    "#   Rank\n",
    "#   Year\n",
    "#   Conference\n",
    "df_rankings = pd.read_csv(\"data/rankings.csv\")\n",
    "df_rankings.head()\n",
    "#--------------------------------------------------------------------------------#"
   ]
  },
  {
   "cell_type": "markdown",
   "metadata": {},
   "source": [
    "### Dataframe Concatenation"
   ]
  },
  {
   "cell_type": "code",
   "execution_count": 67,
   "metadata": {},
   "outputs": [
    {
     "data": {
      "text/html": [
       "<div>\n",
       "<style scoped>\n",
       "    .dataframe tbody tr th:only-of-type {\n",
       "        vertical-align: middle;\n",
       "    }\n",
       "\n",
       "    .dataframe tbody tr th {\n",
       "        vertical-align: top;\n",
       "    }\n",
       "\n",
       "    .dataframe thead th {\n",
       "        text-align: right;\n",
       "    }\n",
       "</style>\n",
       "<table border=\"1\" class=\"dataframe\">\n",
       "  <thead>\n",
       "    <tr style=\"text-align: right;\">\n",
       "      <th></th>\n",
       "      <th>player_name</th>\n",
       "      <th>team_abbreviation</th>\n",
       "      <th>age</th>\n",
       "      <th>player_height</th>\n",
       "      <th>player_weight</th>\n",
       "      <th>full_name</th>\n",
       "    </tr>\n",
       "  </thead>\n",
       "  <tbody>\n",
       "    <tr>\n",
       "      <th>0</th>\n",
       "      <td>Randy Livingston</td>\n",
       "      <td>HOU</td>\n",
       "      <td>22.0</td>\n",
       "      <td>193.04</td>\n",
       "      <td>94.800728</td>\n",
       "      <td>Houston Rockets</td>\n",
       "    </tr>\n",
       "    <tr>\n",
       "      <th>1</th>\n",
       "      <td>Hakeem Olajuwon</td>\n",
       "      <td>HOU</td>\n",
       "      <td>34.0</td>\n",
       "      <td>213.36</td>\n",
       "      <td>115.665960</td>\n",
       "      <td>Houston Rockets</td>\n",
       "    </tr>\n",
       "    <tr>\n",
       "      <th>2</th>\n",
       "      <td>Emanual Davis</td>\n",
       "      <td>HOU</td>\n",
       "      <td>28.0</td>\n",
       "      <td>195.58</td>\n",
       "      <td>87.996848</td>\n",
       "      <td>Houston Rockets</td>\n",
       "    </tr>\n",
       "  </tbody>\n",
       "</table>\n",
       "</div>"
      ],
      "text/plain": [
       "        player_name team_abbreviation   age  player_height  player_weight  \\\n",
       "0  Randy Livingston               HOU  22.0         193.04      94.800728   \n",
       "1   Hakeem Olajuwon               HOU  34.0         213.36     115.665960   \n",
       "2     Emanual Davis               HOU  28.0         195.58      87.996848   \n",
       "\n",
       "         full_name  \n",
       "0  Houston Rockets  \n",
       "1  Houston Rockets  \n",
       "2  Houston Rockets  "
      ]
     },
     "execution_count": 67,
     "metadata": {},
     "output_type": "execute_result"
    }
   ],
   "source": [
    "#--------------------------------------------------------------------------------#\n",
    "## Master Dataframe\n",
    "#   for each player\n",
    "#      age\n",
    "#      height\n",
    "#      weight\n",
    "#      full_name (team name)\n",
    "#      team_abbreviation\n",
    "#      rank\n",
    "#      year\n",
    "\n",
    "## Merge with Seasons\n",
    "df = pd.merge(df_seasons, df_team, left_on=\"team_abbreviation\", right_on=\"abbreviation\")\n",
    "df = df[[\"player_name\", \"team_abbreviation\", \"age\", \"player_height\", \"player_weight\", \"full_name\"]]\n",
    "\n",
    "df.head(3)\n",
    "\n",
    "# ## Merge with Rankings\n",
    "# df = pd.merge(df, df_rankings, left_on=\"full_name\", right_on=\"Team\")\n",
    "\n",
    "# df.head(3)\n",
    "\n",
    "#--------------------------------------------------------------------------------#\n",
    "### Pseudocode\n",
    "# Objective: create a dataframe with the following columns\n",
    "#       Loop through each year\n",
    "#           Create a smaller dataframe with the given year\n",
    "#           Loop through each team\n",
    "#               Calculate average height of the team\n",
    "#               Append the team, average height, and year to the new dataframe\n",
    "\n",
    "# # New Master Dataframe\n",
    "# dict = {'Team' : [], 'Avg_Height' : [], 'Year' : [], 'Rank' : []}\n",
    "# dfMaster = pd.DataFrame(dict)\n",
    "\n",
    "# # Get all unique years and teams\n",
    "# years = df[\"Year\"].unique()                    # get all unique years\n",
    "# teams = df[\"team_abbreviation\"].unique()       # get all unique teams\n",
    "\n",
    "# ##-- Loop through each year --##\n",
    "# for year in range(len(years)):\n",
    "\n",
    "#     # Create a smaller dataframe with the given year\n",
    "#     df_year = df[df[\"Year\"] == years[year]]\n",
    "\n",
    "#     ##-- Loop through each team --##\n",
    "#     for team in range(len(teams)):\n",
    "\n",
    "#         # Calculate average height of the team\n",
    "#         avg_height = df_year[df_year[\"team_abbreviation\"] == teams[team]][\"player_height\"].mean()  # calculate average height of the team\n",
    "\n",
    "#         # Append the team, average height, and year to the new dataframe\n",
    "#         temp = {'Team' : teams[team], 'Avg_Height' : avg_height, 'Year' : years[year]}             # create a temporary dataframe\n",
    "#         df_temp = pd.DataFrame(temp, index=[0])\n",
    "\n",
    "#         dfMaster = pd.concat([dfMaster, df_temp], ignore_index = True)                             # append the temporary dataframe to the master dataframe\n",
    "#         dfMaster = dfMaster.reset_index(drop=True)\n",
    "\n",
    "\n",
    "# #--------------------------------------------------------------------------------#\n",
    "# dfMaster.dropna(inplace=True)\n",
    "\n",
    "\n",
    "#--------------------------------------------------------------------------------#\n",
    "# dfMaster.merge(dfMaster, df_rankings, left_on=\"Team\", right_on=\"Year\")\n",
    "# dfMaster.head(100)\n"
   ]
  },
  {
   "cell_type": "markdown",
   "metadata": {},
   "source": [
    "$\\rule{27cm}{0.4pt}$ \n",
    "### Begin K-Mean Analysis"
   ]
  },
  {
   "cell_type": "code",
   "execution_count": 61,
   "metadata": {},
   "outputs": [
    {
     "ename": "KeyError",
     "evalue": "\"None of [Index(['Rank', 'player_height'], dtype='object')] are in the [columns]\"",
     "output_type": "error",
     "traceback": [
      "\u001b[1;31m---------------------------------------------------------------------------\u001b[0m",
      "\u001b[1;31mKeyError\u001b[0m                                  Traceback (most recent call last)",
      "Cell \u001b[1;32mIn[61], line 1\u001b[0m\n\u001b[1;32m----> 1\u001b[0m centroids, clusters, mean_error \u001b[38;5;241m=\u001b[39m kMeans(\u001b[43mdfMaster\u001b[49m\u001b[43m[\u001b[49m\u001b[43m[\u001b[49m\u001b[38;5;124;43m\"\u001b[39;49m\u001b[38;5;124;43mRank\u001b[39;49m\u001b[38;5;124;43m\"\u001b[39;49m\u001b[43m,\u001b[49m\u001b[43m \u001b[49m\u001b[38;5;124;43m\"\u001b[39;49m\u001b[38;5;124;43mplayer_height\u001b[39;49m\u001b[38;5;124;43m\"\u001b[39;49m\u001b[43m]\u001b[49m\u001b[43m]\u001b[49m, k\u001b[38;5;241m=\u001b[39m\u001b[38;5;241m4\u001b[39m)\n\u001b[0;32m      3\u001b[0m \u001b[38;5;28mprint\u001b[39m(\u001b[38;5;124m'\u001b[39m\u001b[38;5;130;01m\\n\u001b[39;00m\u001b[38;5;124m    Mean Error of \u001b[39m\u001b[38;5;132;01m{}\u001b[39;00m\u001b[38;5;124m'\u001b[39m\u001b[38;5;241m.\u001b[39mformat(mean_error))\n\u001b[0;32m      5\u001b[0m \u001b[38;5;28mprint\u001b[39m(\u001b[38;5;124m'\u001b[39m\u001b[38;5;130;01m\\n\u001b[39;00m\u001b[38;5;124mCentroids:\u001b[39m\u001b[38;5;124m'\u001b[39m)\n",
      "File \u001b[1;32m~\\AppData\\Roaming\\Python\\Python310\\site-packages\\pandas\\core\\frame.py:3902\u001b[0m, in \u001b[0;36mDataFrame.__getitem__\u001b[1;34m(self, key)\u001b[0m\n\u001b[0;32m   3900\u001b[0m     \u001b[38;5;28;01mif\u001b[39;00m is_iterator(key):\n\u001b[0;32m   3901\u001b[0m         key \u001b[38;5;241m=\u001b[39m \u001b[38;5;28mlist\u001b[39m(key)\n\u001b[1;32m-> 3902\u001b[0m     indexer \u001b[38;5;241m=\u001b[39m \u001b[38;5;28;43mself\u001b[39;49m\u001b[38;5;241;43m.\u001b[39;49m\u001b[43mcolumns\u001b[49m\u001b[38;5;241;43m.\u001b[39;49m\u001b[43m_get_indexer_strict\u001b[49m\u001b[43m(\u001b[49m\u001b[43mkey\u001b[49m\u001b[43m,\u001b[49m\u001b[43m \u001b[49m\u001b[38;5;124;43m\"\u001b[39;49m\u001b[38;5;124;43mcolumns\u001b[39;49m\u001b[38;5;124;43m\"\u001b[39;49m\u001b[43m)\u001b[49m[\u001b[38;5;241m1\u001b[39m]\n\u001b[0;32m   3904\u001b[0m \u001b[38;5;66;03m# take() does not accept boolean indexers\u001b[39;00m\n\u001b[0;32m   3905\u001b[0m \u001b[38;5;28;01mif\u001b[39;00m \u001b[38;5;28mgetattr\u001b[39m(indexer, \u001b[38;5;124m\"\u001b[39m\u001b[38;5;124mdtype\u001b[39m\u001b[38;5;124m\"\u001b[39m, \u001b[38;5;28;01mNone\u001b[39;00m) \u001b[38;5;241m==\u001b[39m \u001b[38;5;28mbool\u001b[39m:\n",
      "File \u001b[1;32m~\\AppData\\Roaming\\Python\\Python310\\site-packages\\pandas\\core\\indexes\\base.py:6114\u001b[0m, in \u001b[0;36mIndex._get_indexer_strict\u001b[1;34m(self, key, axis_name)\u001b[0m\n\u001b[0;32m   6111\u001b[0m \u001b[38;5;28;01melse\u001b[39;00m:\n\u001b[0;32m   6112\u001b[0m     keyarr, indexer, new_indexer \u001b[38;5;241m=\u001b[39m \u001b[38;5;28mself\u001b[39m\u001b[38;5;241m.\u001b[39m_reindex_non_unique(keyarr)\n\u001b[1;32m-> 6114\u001b[0m \u001b[38;5;28;43mself\u001b[39;49m\u001b[38;5;241;43m.\u001b[39;49m\u001b[43m_raise_if_missing\u001b[49m\u001b[43m(\u001b[49m\u001b[43mkeyarr\u001b[49m\u001b[43m,\u001b[49m\u001b[43m \u001b[49m\u001b[43mindexer\u001b[49m\u001b[43m,\u001b[49m\u001b[43m \u001b[49m\u001b[43maxis_name\u001b[49m\u001b[43m)\u001b[49m\n\u001b[0;32m   6116\u001b[0m keyarr \u001b[38;5;241m=\u001b[39m \u001b[38;5;28mself\u001b[39m\u001b[38;5;241m.\u001b[39mtake(indexer)\n\u001b[0;32m   6117\u001b[0m \u001b[38;5;28;01mif\u001b[39;00m \u001b[38;5;28misinstance\u001b[39m(key, Index):\n\u001b[0;32m   6118\u001b[0m     \u001b[38;5;66;03m# GH 42790 - Preserve name from an Index\u001b[39;00m\n",
      "File \u001b[1;32m~\\AppData\\Roaming\\Python\\Python310\\site-packages\\pandas\\core\\indexes\\base.py:6175\u001b[0m, in \u001b[0;36mIndex._raise_if_missing\u001b[1;34m(self, key, indexer, axis_name)\u001b[0m\n\u001b[0;32m   6173\u001b[0m     \u001b[38;5;28;01mif\u001b[39;00m use_interval_msg:\n\u001b[0;32m   6174\u001b[0m         key \u001b[38;5;241m=\u001b[39m \u001b[38;5;28mlist\u001b[39m(key)\n\u001b[1;32m-> 6175\u001b[0m     \u001b[38;5;28;01mraise\u001b[39;00m \u001b[38;5;167;01mKeyError\u001b[39;00m(\u001b[38;5;124mf\u001b[39m\u001b[38;5;124m\"\u001b[39m\u001b[38;5;124mNone of [\u001b[39m\u001b[38;5;132;01m{\u001b[39;00mkey\u001b[38;5;132;01m}\u001b[39;00m\u001b[38;5;124m] are in the [\u001b[39m\u001b[38;5;132;01m{\u001b[39;00maxis_name\u001b[38;5;132;01m}\u001b[39;00m\u001b[38;5;124m]\u001b[39m\u001b[38;5;124m\"\u001b[39m)\n\u001b[0;32m   6177\u001b[0m not_found \u001b[38;5;241m=\u001b[39m \u001b[38;5;28mlist\u001b[39m(ensure_index(key)[missing_mask\u001b[38;5;241m.\u001b[39mnonzero()[\u001b[38;5;241m0\u001b[39m]]\u001b[38;5;241m.\u001b[39munique())\n\u001b[0;32m   6178\u001b[0m \u001b[38;5;28;01mraise\u001b[39;00m \u001b[38;5;167;01mKeyError\u001b[39;00m(\u001b[38;5;124mf\u001b[39m\u001b[38;5;124m\"\u001b[39m\u001b[38;5;132;01m{\u001b[39;00mnot_found\u001b[38;5;132;01m}\u001b[39;00m\u001b[38;5;124m not in index\u001b[39m\u001b[38;5;124m\"\u001b[39m)\n",
      "\u001b[1;31mKeyError\u001b[0m: \"None of [Index(['Rank', 'player_height'], dtype='object')] are in the [columns]\""
     ]
    }
   ],
   "source": [
    "centroids, clusters, mean_error = kMeans(dfMaster[[\"Rank\", \"player_height\"]], k=4)\n",
    "\n",
    "print('\\n    Mean Error of {}'.format(mean_error))\n",
    "\n",
    "print('\\nCentroids:')\n",
    "print(centroids)\n",
    "\n",
    "print('\\nClusters:')\n",
    "print(clusters)"
   ]
  },
  {
   "cell_type": "markdown",
   "metadata": {},
   "source": [
    "### Plot the resulting graph"
   ]
  },
  {
   "cell_type": "code",
   "execution_count": 24,
   "metadata": {},
   "outputs": [
    {
     "data": {
      "image/png": "[encoded data removed]",
      "text/plain": [
       "<Figure size 500x500 with 1 Axes>"
      ]
     },
     "metadata": {},
     "output_type": "display_data"
    }
   ],
   "source": [
    "import matplotlib.pyplot as plt\n",
    "\n",
    "fig, ax = plt.subplots(1, 1, figsize=(5,5))\n",
    "plt.scatter(df[['Rank']], df[['player_height']], c = clusters)\n",
    "plt.scatter(df[['Rank']], df[['player_height']], c = 'black', marker='.')\n",
    "plt.xlabel(\"Rank\")\n",
    "plt.ylabel(\"Height\")\n",
    "plt.show()"
   ]
  },
  {
   "cell_type": "code",
   "execution_count": 25,
   "metadata": {},
   "outputs": [
    {
     "name": "stdout",
     "output_type": "stream",
     "text": [
      "[0. 0. 0. ... 0. 0. 1.]\n"
     ]
    }
   ],
   "source": [
    "print(clusters)"
   ]
  }
 ],
 "metadata": {
  "kernelspec": {
   "display_name": "Python 3",
   "language": "python",
   "name": "python3"
  },
  "language_info": {
   "codemirror_mode": {
    "name": "ipython",
    "version": 3
   },
   "file_extension": ".py",
   "mimetype": "text/x-python",
   "name": "python",
   "nbconvert_exporter": "python",
   "pygments_lexer": "ipython3",
   "version": "3.10.7"
  }
 },
 "nbformat": 4,
 "nbformat_minor": 2
}
