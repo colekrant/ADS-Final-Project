{
 "cells": [
  {
   "cell_type": "markdown",
   "metadata": {},
   "source": [
    "## $\\color{SkyBlue}{\\text{Weather Analysis}}$\n",
    "#### $\\color{SkyBlue}{\\text{Roman Lynch}}$\n"
   ]
  },
  {
   "cell_type": "code",
   "execution_count": 1,
   "metadata": {},
   "outputs": [],
   "source": [
    "import numpy as np\n",
    "import pandas as pd"
   ]
  },
  {
   "cell_type": "markdown",
   "metadata": {},
   "source": [
    "$\\rule{27cm}{0.4pt}$\n",
    "### K-Means Algorithm"
   ]
  },
  {
   "cell_type": "code",
   "execution_count": 16,
   "metadata": {},
   "outputs": [],
   "source": [
    "#--------------------------------------------------------------------------------#\n",
    "def dist(x1, x2):\n",
    "    return np.sqrt(np.sum(x1-x2)**2)\n",
    "#--------------------------------------------------------------------------------#"
   ]
  },
  {
   "cell_type": "code",
   "execution_count": 17,
   "metadata": {},
   "outputs": [],
   "source": [
    "#--------------------------------------------------------------------------------#\n",
    "def kMeans(df, k=4, tol=0.05): \n",
    "    \"\"\"\n",
    "    Usage: input \n",
    "        df=data frame, \n",
    "        k=# of clusters\n",
    "        tol=tolerance for L_2 convergance check on centroids\n",
    "    \"\"\"    \n",
    "    #---------------------------------------#\n",
    "    #-- Initialize --#\n",
    "    clusters = np.zeros(len(df))\n",
    "    centroids = df.sample(k).values\n",
    "    mean_error = np.inf\n",
    "    converged = False\n",
    "    \n",
    "    num_iterations = 0\n",
    "    \n",
    "    #---------------------------------------#\n",
    "    #-- LOOP UNTIL CONVERGENCE --#\n",
    "    while not(converged):\n",
    "        \n",
    "        #-- Cluster Assignment --#\n",
    "        for index, data in enumerate(df.values):\n",
    "            distances = [dist(data, centroid) for centroid in centroids]\n",
    "            clusters[index] = np.argmin(distances)\n",
    "        \n",
    "        #-- Update Centroids --#\n",
    "        updated_centroids = np.empty((k, df.shape[1]))\n",
    "        for index in range(k):\n",
    "            clust_data = df[clusters == index]\n",
    "            centroid = clust_data.mean(axis=0)\n",
    "            updated_centroids[index, :] = centroid\n",
    "            \n",
    "        #-- Calculate Meanerror --#\n",
    "        errors = []\n",
    "        for data, cluster in zip(df.values, clusters):\n",
    "            centroid = updated_centroids[int(cluster)]\n",
    "            errors.append(dist(data, centroid)**2)\n",
    "        \n",
    "        error_arr = np.array(errors)\n",
    "        \n",
    "        #-- Calculate Reconstruction Error --#\n",
    "        rec_err = np.sum(error_arr)/len(df)\n",
    "        \n",
    "        #-- Check for Convergence --#\n",
    "        if (abs(rec_err - mean_error) < tol):\n",
    "            converged = True\n",
    "#             print('Converged at iteration {} with a change of {}'.format(num_iterations, abs(rec_err - mean_error)))\n",
    "        \n",
    "        # Update Values\n",
    "        centroids = updated_centroids\n",
    "        mean_error = rec_err\n",
    "        num_iterations = num_iterations + 1\n",
    "        \n",
    "    #---------------------------------------#\n",
    "    return centroids, clusters, mean_error\n",
    "#--------------------------------------------------------------------------------#"
   ]
  },
  {
   "cell_type": "markdown",
   "metadata": {},
   "source": [
    "$\\rule{27cm}{0.4pt}$ \n",
    "### Dataframe Composition"
   ]
  },
  {
   "cell_type": "code",
   "execution_count": 27,
   "metadata": {},
   "outputs": [
    {
     "name": "stderr",
     "output_type": "stream",
     "text": [
      "C:\\Users\\roman\\AppData\\Local\\Temp\\ipykernel_83816\\3036037774.py:2: DtypeWarning: Columns (2) have mixed types. Specify dtype option on import or set low_memory=False.\n",
      "  df_weather = pd.read_csv(\"data/city_temperature.csv\")\n"
     ]
    },
    {
     "name": "stdout",
     "output_type": "stream",
     "text": [
      "(80, 6)\n",
      "Denver Nuggets\n"
     ]
    }
   ],
   "source": [
    "# Read in CSV files\n",
    "df_weather = pd.read_csv(\"data/city_temperature.csv\")\n",
    "df_rankings = pd.read_csv(\"data/rankings.csv\")\n",
    "df_teams = pd.read_csv(\"data/team.csv\")\n",
    "\n",
    "# Only take important columns\n",
    "df_weather = df_weather[['City', 'Year', 'AvgTemperature']]\n",
    "df_rankings = df_rankings[['Team', 'Rank', 'Year']]\n",
    "df_teams = df_teams[['full_name', 'abbreviation', 'city']]\n",
    "\n",
    "#print(df_weather.head(5))\n",
    "#print(df_rankings.head(5))\n",
    "#print(df_teams.head(5))\n",
    "\n",
    "df_master = pd.merge(df_rankings,df_teams, left_on=\"Team\", right_on=\"full_name\")\n",
    "print(df_master.shape)\n",
    "\n",
    "str = \"Denver Nuggets*\"\n",
    "if (str.find(\"*\")):\n",
    "    str = str[:-1]\n",
    "\n",
    "print(str)\n",
    "\n"
   ]
  },
  {
   "cell_type": "code",
   "execution_count": null,
   "metadata": {},
   "outputs": [],
   "source": []
  }
 ],
 "metadata": {
  "kernelspec": {
   "display_name": "Python 3",
   "language": "python",
   "name": "python3"
  },
  "language_info": {
   "codemirror_mode": {
    "name": "ipython",
    "version": 3
   },
   "file_extension": ".py",
   "mimetype": "text/x-python",
   "name": "python",
   "nbconvert_exporter": "python",
   "pygments_lexer": "ipython3",
   "version": "3.10.1"
  }
 },
 "nbformat": 4,
 "nbformat_minor": 2
}
